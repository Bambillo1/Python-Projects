{
  "nbformat": 4,
  "nbformat_minor": 0,
  "metadata": {
    "colab": {
      "provenance": [],
      "gpuType": "T4",
      "authorship_tag": "ABX9TyPwzx4cFgpnAx4TrcyFL14y",
      "include_colab_link": true
    },
    "kernelspec": {
      "name": "ir",
      "display_name": "R"
    },
    "language_info": {
      "name": "R"
    },
    "accelerator": "GPU"
  },
  "cells": [
    {
      "cell_type": "markdown",
      "metadata": {
        "id": "view-in-github",
        "colab_type": "text"
      },
      "source": [
        "<a href=\"https://colab.research.google.com/github/Bambillo1/Python-Projects/blob/main/Assignment_1_R.ipynb\" target=\"_parent\"><img src=\"https://colab.research.google.com/assets/colab-badge.svg\" alt=\"Open In Colab\"/></a>"
      ]
    },
    {
      "cell_type": "markdown",
      "source": [
        "#Using R language to answer the questions"
      ],
      "metadata": {
        "id": "x5nsUuny_j3Z"
      }
    },
    {
      "cell_type": "markdown",
      "source": [
        "#Question 1"
      ],
      "metadata": {
        "id": "6zr2gSNEcH3O"
      }
    },
    {
      "cell_type": "markdown",
      "source": [
        "#Check first five rows of the data"
      ],
      "metadata": {
        "id": "3H7Z-EsZ_trF"
      }
    },
    {
      "cell_type": "code",
      "source": [
        "data <- read.csv(\"Q1.csv\")\n"
      ],
      "metadata": {
        "id": "svfWs5a5R-3a"
      },
      "execution_count": 4,
      "outputs": []
    },
    {
      "cell_type": "code",
      "source": [
        "# Assuming your dataframe is named 'data'\n",
        "head(data)\n"
      ],
      "metadata": {
        "colab": {
          "base_uri": "https://localhost:8080/",
          "height": 286
        },
        "id": "wMyP5kqgSSMt",
        "outputId": "bd817800-8a02-41bb-b9e9-824933ee5669"
      },
      "execution_count": 5,
      "outputs": [
        {
          "output_type": "display_data",
          "data": {
            "text/html": [
              "<table class=\"dataframe\">\n",
              "<caption>A data.frame: 6 × 3</caption>\n",
              "<thead>\n",
              "\t<tr><th></th><th scope=col>Hour_Index</th><th scope=col>Freeflow_Traffic_Flow_Rate</th><th scope=col>Traffic_Density</th></tr>\n",
              "\t<tr><th></th><th scope=col>&lt;int&gt;</th><th scope=col>&lt;dbl&gt;</th><th scope=col>&lt;dbl&gt;</th></tr>\n",
              "</thead>\n",
              "<tbody>\n",
              "\t<tr><th scope=row>1</th><td>1</td><td> 663.0482</td><td>314.8086</td></tr>\n",
              "\t<tr><th scope=row>2</th><td>2</td><td>1082.6297</td><td>360.0391</td></tr>\n",
              "\t<tr><th scope=row>3</th><td>3</td><td>1100.3490</td><td>354.5086</td></tr>\n",
              "\t<tr><th scope=row>4</th><td>4</td><td>1016.6129</td><td>282.0648</td></tr>\n",
              "\t<tr><th scope=row>5</th><td>5</td><td>1031.5596</td><td>293.5036</td></tr>\n",
              "\t<tr><th scope=row>6</th><td>6</td><td> 894.4115</td><td>336.6869</td></tr>\n",
              "</tbody>\n",
              "</table>\n"
            ],
            "text/markdown": "\nA data.frame: 6 × 3\n\n| <!--/--> | Hour_Index &lt;int&gt; | Freeflow_Traffic_Flow_Rate &lt;dbl&gt; | Traffic_Density &lt;dbl&gt; |\n|---|---|---|---|\n| 1 | 1 |  663.0482 | 314.8086 |\n| 2 | 2 | 1082.6297 | 360.0391 |\n| 3 | 3 | 1100.3490 | 354.5086 |\n| 4 | 4 | 1016.6129 | 282.0648 |\n| 5 | 5 | 1031.5596 | 293.5036 |\n| 6 | 6 |  894.4115 | 336.6869 |\n\n",
            "text/latex": "A data.frame: 6 × 3\n\\begin{tabular}{r|lll}\n  & Hour\\_Index & Freeflow\\_Traffic\\_Flow\\_Rate & Traffic\\_Density\\\\\n  & <int> & <dbl> & <dbl>\\\\\n\\hline\n\t1 & 1 &  663.0482 & 314.8086\\\\\n\t2 & 2 & 1082.6297 & 360.0391\\\\\n\t3 & 3 & 1100.3490 & 354.5086\\\\\n\t4 & 4 & 1016.6129 & 282.0648\\\\\n\t5 & 5 & 1031.5596 & 293.5036\\\\\n\t6 & 6 &  894.4115 & 336.6869\\\\\n\\end{tabular}\n",
            "text/plain": [
              "  Hour_Index Freeflow_Traffic_Flow_Rate Traffic_Density\n",
              "1 1           663.0482                  314.8086       \n",
              "2 2          1082.6297                  360.0391       \n",
              "3 3          1100.3490                  354.5086       \n",
              "4 4          1016.6129                  282.0648       \n",
              "5 5          1031.5596                  293.5036       \n",
              "6 6           894.4115                  336.6869       "
            ]
          },
          "metadata": {}
        }
      ]
    },
    {
      "cell_type": "markdown",
      "source": [
        "#A\n",
        "Visualize the traffic flow variable using a histogram and a Q-Q plots. (4 Marks)"
      ],
      "metadata": {
        "id": "6zsWUncsUL6z"
      }
    },
    {
      "cell_type": "code",
      "source": [
        "install.packages(\"gridExtra\")\n",
        "# Load necessary packages\n",
        "library(ggplot2)\n",
        "library(gridExtra)\n",
        "\n",
        "# Create histogram of traffic flow\n",
        "hist_plot <- ggplot(data, aes(x = Freeflow_Traffic_Flow_Rate)) +\n",
        "  geom_histogram(binwidth = 50, fill = \"skyblue\", color = \"black\") +\n",
        "  labs(title = \"Histogram of Traffic Flow\", x = \"Traffic Flow Rate\", y = \"Frequency\") +\n",
        "  theme_minimal()\n",
        "\n",
        "# Create Q-Q plot of traffic flow\n",
        "qq_plot <- ggplot(data, aes(sample = Freeflow_Traffic_Flow_Rate)) +\n",
        "  stat_qq() +\n",
        "  stat_qq_line(color = \"red\") +\n",
        "  labs(title = \"Q-Q Plot of Traffic Flow\") +\n",
        "  theme_minimal()\n",
        "\n",
        "# Arrange plots side by side\n",
        "# Increase plot size\n",
        "options(repr.plot.width = 10, repr.plot.height = 5)\n",
        "grid.arrange(hist_plot, qq_plot, ncol = 2)\n"
      ],
      "metadata": {
        "colab": {
          "base_uri": "https://localhost:8080/",
          "height": 369
        },
        "id": "J0AgIe6eSTvY",
        "outputId": "c0d29648-4669-4249-8d8e-c64deff3b9d7"
      },
      "execution_count": 6,
      "outputs": [
        {
          "output_type": "stream",
          "name": "stderr",
          "text": [
            "Installing package into ‘/usr/local/lib/R/site-library’\n",
            "(as ‘lib’ is unspecified)\n",
            "\n"
          ]
        },
        {
          "output_type": "display_data",
          "data": {
            "text/plain": [
              "plot without title"
            ],
            "image/png": "[encoded data removed]"
          },
          "metadata": {
            "image/png": {
              "width": 600,
              "height": 300
            }
          }
        }
      ]
    },
    {
      "cell_type": "markdown",
      "source": [
        "#Explanation of the output:\n",
        "1. The histogram provides a visual representation of the distribution of traffic flow rates. From the histogram, you can observe the frequency of traffic flow rates within different intervals.\n",
        "\n",
        "2. The Q-Q plot compares the distribution of traffic flow rates against a theoretical normal distribution. If the points in the Q-Q plot fall approximately along the diagonal line, it suggests that the traffic flow rates follow a normal distribution. Deviations from the diagonal line indicate departures from normality."
      ],
      "metadata": {
        "id": "NZ9NkPPZUmVz"
      }
    },
    {
      "cell_type": "markdown",
      "source": [
        "#B\n",
        "Fit Normal, Weibull, and Gamma distributions to the traffic flow using maximum likelihood estimation, and compute the corresponding parameter estimates. (6 Marks)"
      ],
      "metadata": {
        "id": "X70p4stZV6_f"
      }
    },
    {
      "cell_type": "code",
      "source": [
        "install.packages(\"fitdistrplus\")\n",
        "install.packages(\"MASS\")\n",
        "\n",
        "# Load necessary packages\n",
        "library(fitdistrplus)\n",
        "library(MASS)\n",
        "\n",
        "# Extract traffic flow data\n",
        "traffic_flow <- data$Freeflow_Traffic_Flow_Rate\n",
        "\n",
        "# Fit Normal distribution using fitdist function\n",
        "fit_normal <- fitdist(traffic_flow, \"norm\")\n",
        "\n",
        "# Fit Weibull distribution using fitdistr function\n",
        "fit_weibull <- fitdistr(traffic_flow, \"weibull\")\n",
        "\n",
        "# Fit Gamma distribution using fitdistr function\n",
        "fit_gamma <- fitdistr(traffic_flow, \"gamma\")\n",
        "\n",
        "# Display parameter estimates\n",
        "print(\"Normal distribution:\")\n",
        "print(summary(fit_normal)$estimate)\n",
        "\n",
        "print(\"Weibull distribution:\")\n",
        "print(fit_weibull$estimate)\n",
        "\n",
        "print(\"Gamma distribution:\")\n",
        "print(fit_gamma$estimate)\n"
      ],
      "metadata": {
        "colab": {
          "base_uri": "https://localhost:8080/"
        },
        "id": "mi8C-9GMV39D",
        "outputId": "892e6bca-cb6b-47d6-b99f-74b7f1582471"
      },
      "execution_count": 7,
      "outputs": [
        {
          "output_type": "stream",
          "name": "stderr",
          "text": [
            "Installing package into ‘/usr/local/lib/R/site-library’\n",
            "(as ‘lib’ is unspecified)\n",
            "\n",
            "Installing package into ‘/usr/local/lib/R/site-library’\n",
            "(as ‘lib’ is unspecified)\n",
            "\n",
            "Loading required package: MASS\n",
            "\n",
            "Loading required package: survival\n",
            "\n",
            "Warning message in densfun(x, parm[1], parm[2], ...):\n",
            "“NaNs produced”\n",
            "Warning message in densfun(x, parm[1], parm[2], ...):\n",
            "“NaNs produced”\n",
            "Warning message in densfun(x, parm[1], parm[2], ...):\n",
            "“NaNs produced”\n"
          ]
        },
        {
          "output_type": "stream",
          "name": "stdout",
          "text": [
            "[1] \"Normal distribution:\"\n",
            "     mean        sd \n",
            "1002.0892  197.8675 \n",
            "[1] \"Weibull distribution:\"\n",
            "     shape      scale \n",
            "   5.35594 1082.94891 \n",
            "[1] \"Gamma distribution:\"\n",
            "      shape        rate \n",
            "24.73324496  0.02468169 \n"
          ]
        }
      ]
    },
    {
      "cell_type": "markdown",
      "source": [
        "Normal Distribution:\n",
        "\n",
        "The parameters estimated for the Normal distribution represent the mean and standard deviation.\n",
        "The estimates can be interpreted as follows:\n",
        "1. Mean: Estimated mean traffic flow rate.\n",
        "2. Standard Deviation: Estimated variability or dispersion of traffic flow rate around the mean.\n",
        "\n",
        "Weibull Distribution:\n",
        "\n",
        "The parameters estimated for the Weibull distribution represent the shape and scale parameters.\n",
        "The estimates can be interpreted as follows:\n",
        "1. Shape: Determines the shape of the distribution (skewness and tail behavior).\n",
        "2. Scale: Determines the scale or characteristic traffic flow rate.\n",
        "\n",
        "Gamma Distribution:\n",
        "\n",
        "The parameters estimated for the Gamma distribution represent the shape and scale parameters.\n",
        "The estimates can be interpreted as follows:\n",
        "1. Shape: Determines the shape of the distribution (skewness and tail behavior).\n",
        "2. Scale: Determines the scale or characteristic traffic flow rate."
      ],
      "metadata": {
        "id": "U_Svn-TXWyxH"
      }
    },
    {
      "cell_type": "markdown",
      "source": [
        "#C\n",
        "Evaluate the goodness of fit for each candidate distribution using the Kolmogorov-Smirnov test for the traffic flow variable. (3 Marks)"
      ],
      "metadata": {
        "id": "U1BOe0KlXLgx"
      }
    },
    {
      "cell_type": "code",
      "source": [
        "# Perform Kolmogorov-Smirnov tests for each distribution\n",
        "ks_normal <- ks.test(traffic_flow, \"pnorm\", mean = fit_normal$estimate[1], sd = fit_normal$estimate[2])\n",
        "ks_weibull <- ks.test(traffic_flow, \"pweibull\", shape = fit_weibull$estimate[1], scale = fit_weibull$estimate[2])\n",
        "ks_gamma <- ks.test(traffic_flow, \"pgamma\", shape = fit_gamma$estimate[1], scale = fit_gamma$estimate[2])\n",
        "\n",
        "# Display test results\n",
        "print(\"Kolmogorov-Smirnov Test for Normal distribution:\")\n",
        "print(ks_normal)\n",
        "\n",
        "print(\"Kolmogorov-Smirnov Test for Weibull distribution:\")\n",
        "print(ks_weibull)\n",
        "\n",
        "print(\"Kolmogorov-Smirnov Test for Gamma distribution:\")\n",
        "print(ks_gamma)\n"
      ],
      "metadata": {
        "colab": {
          "base_uri": "https://localhost:8080/"
        },
        "id": "V5qsEcsvWUL3",
        "outputId": "7723ea00-b412-446d-9eb5-ccb3b3ed354f"
      },
      "execution_count": 8,
      "outputs": [
        {
          "output_type": "stream",
          "name": "stdout",
          "text": [
            "[1] \"Kolmogorov-Smirnov Test for Normal distribution:\"\n",
            "\n",
            "\tAsymptotic one-sample Kolmogorov-Smirnov test\n",
            "\n",
            "data:  traffic_flow\n",
            "D = 0.028064, p-value = 0.8259\n",
            "alternative hypothesis: two-sided\n",
            "\n",
            "[1] \"Kolmogorov-Smirnov Test for Weibull distribution:\"\n",
            "\n",
            "\tAsymptotic one-sample Kolmogorov-Smirnov test\n",
            "\n",
            "data:  traffic_flow\n",
            "D = 0.041118, p-value = 0.3665\n",
            "alternative hypothesis: two-sided\n",
            "\n",
            "[1] \"Kolmogorov-Smirnov Test for Gamma distribution:\"\n",
            "\n",
            "\tAsymptotic one-sample Kolmogorov-Smirnov test\n",
            "\n",
            "data:  traffic_flow\n",
            "D = 1, p-value < 2.2e-16\n",
            "alternative hypothesis: two-sided\n",
            "\n"
          ]
        }
      ]
    },
    {
      "cell_type": "markdown",
      "source": [
        "#C\n",
        "The output of each ks.test provides the results of the Kolmogorov-Smirnov test for the corresponding distribution.\n",
        "Look at the p-value associated with each test result:\n",
        "If the p-value is greater than the significance level (e.g., 0.05), you fail to reject the null hypothesis, indicating that the distribution fits the data well.\n",
        "If the p-value is less than the significance level, you reject the null hypothesis, suggesting that the distribution does not fit the data well.\n",
        "Additionally, examine the test statistic to understand the degree of discrepancy between the empirical and theoretical distributions."
      ],
      "metadata": {
        "id": "qyq_9L8CXlCj"
      }
    },
    {
      "cell_type": "markdown",
      "source": [
        "#D\n",
        "Based on the results of the goodness-of-fit tests with the three candidate distributions, indicate the best-fit distribution for the traffic flow variable. (Just one sentence indicating the name and the reason for the choice). (2 Marks)\n",
        "\n",
        "\n",
        "\n",
        "Based on the results of the goodness-of-fit tests with the Kolmogorov-Smirnov test, the best-fit distribution for the traffic flow variable is the Normal distribution, as it yields the highest p-value (0.8259), indicating the closest fit to the empirical data."
      ],
      "metadata": {
        "id": "hNEKcXjBYey7"
      }
    },
    {
      "cell_type": "markdown",
      "source": [
        "#E\n",
        "What is the 90th percentile of traffic flow? (3 Marks)"
      ],
      "metadata": {
        "id": "2Eyvf09ZYuhj"
      }
    },
    {
      "cell_type": "code",
      "source": [
        "# Calculate the 90th percentile of traffic flow\n",
        "percentile_90 <- quantile(traffic_flow, 0.90)\n",
        "\n",
        "# Print the result\n",
        "print(percentile_90)\n"
      ],
      "metadata": {
        "colab": {
          "base_uri": "https://localhost:8080/"
        },
        "id": "nTtbqGt-X3WS",
        "outputId": "4205cab4-10d1-4935-aa83-4e368d2fc32f"
      },
      "execution_count": 9,
      "outputs": [
        {
          "output_type": "stream",
          "name": "stdout",
          "text": [
            "     90% \n",
            "1228.787 \n"
          ]
        }
      ]
    },
    {
      "cell_type": "markdown",
      "source": [
        "The 90th percentile of traffic flow represents the value below which 90% of the traffic flow rates fall. In this case, the calculated value provides a threshold for traffic flow below which 90% of the observations lie, indicating the level of flow that is exceeded by only 10% of the data points. This information can be useful for understanding traffic patterns and planning infrastructure to accommodate peak traffic loads."
      ],
      "metadata": {
        "id": "8NB2RLaoZANE"
      }
    },
    {
      "cell_type": "markdown",
      "source": [
        "#F\n",
        "Based on the fitted distribution, what is the probability that the traffic flow exceeds 1000 vehicles per hour? (3 Marks)"
      ],
      "metadata": {
        "id": "ocUvqh8bZZZA"
      }
    },
    {
      "cell_type": "code",
      "source": [
        "# Probability that traffic flow exceeds 1000 vehicles per hour for Normal distribution\n",
        "prob_exceed_1000_normal <- 1 - pnorm(1000, mean = fit_normal$estimate[1], sd = fit_normal$estimate[2])\n",
        "\n",
        "# Print the result\n",
        "print(prob_exceed_1000_normal)\n",
        "\n",
        "# Probability that traffic flow exceeds 1000 vehicles per hour for Weibull distribution\n",
        "prob_exceed_1000_weibull <- 1 - pweibull(1000, shape = fit_weibull$estimate[1], scale = fit_weibull$estimate[2])\n",
        "\n",
        "# Print the result\n",
        "print(prob_exceed_1000_weibull)\n",
        "\n",
        "# Probability that traffic flow exceeds 1000 vehicles per hour for Weibull distribution\n",
        "prob_exceed_1000_weibull <- 1 - pweibull(1000, shape = fit_weibull$estimate[1], scale = fit_weibull$estimate[2])\n",
        "\n",
        "# Print the result\n",
        "print(prob_exceed_1000_weibull)\n"
      ],
      "metadata": {
        "colab": {
          "base_uri": "https://localhost:8080/"
        },
        "id": "zJ1IMGKLZPP1",
        "outputId": "0586f60f-cdd5-4337-cbe0-ed9a72f60f6b"
      },
      "execution_count": 10,
      "outputs": [
        {
          "output_type": "stream",
          "name": "stdout",
          "text": [
            "[1] 0.5042121\n",
            "[1] 0.5206943\n",
            "[1] 0.5206943\n"
          ]
        }
      ]
    },
    {
      "cell_type": "markdown",
      "source": [
        "The probability that the traffic flow exceeds 1000 vehicles per hour can be interpreted as the likelihood of observing a traffic flow rate higher than 1000 vehicles per hour based on the fitted distribution.\n",
        "\n",
        "1. For the Normal distribution, the probability is obtained by subtracting the cumulative probability up to 1000 from 1. This indicates the tail probability beyond 1000 in a normal distribution.\n",
        "2. For the Weibull distribution, the probability is calculated similarly, representing the tail probability beyond 1000 in a Weibull distribution.\n",
        "3. For the Gamma distribution, the probability follows the same interpretation, indicating the tail probability beyond 1000 in a Gamma distribution."
      ],
      "metadata": {
        "id": "uUoOflIebDM9"
      }
    },
    {
      "cell_type": "markdown",
      "source": [
        "#G\n",
        "Another metric for monitoring traffic in a network is average speed. Convert traffic flow values to the corresponding average speed in kilometers per hour and plot the PDF and CDF of average speed (4 Marks)"
      ],
      "metadata": {
        "id": "fJWckTEEbRHN"
      }
    },
    {
      "cell_type": "code",
      "source": [
        "# Convert traffic flow to average speed\n",
        "average_speed <- data$Freeflow_Traffic_Flow_Rate / data$Traffic_Density\n",
        "\n",
        "# Plot PDF of average speed\n",
        "hist(average_speed, freq = FALSE, main = \"PDF of Average Speed\", xlab = \"Average Speed (km/h)\", col = \"skyblue\", border = \"black\")\n",
        "lines(density(average_speed), col = \"red\", lwd = 2)\n",
        "\n",
        "# Plot CDF of average speed\n",
        "plot(ecdf(average_speed), main = \"CDF of Average Speed\", xlab = \"Average Speed (km/h)\", col = \"blue\")\n"
      ],
      "metadata": {
        "colab": {
          "base_uri": "https://localhost:8080/",
          "height": 617
        },
        "id": "vKHcsVZqbYJn",
        "outputId": "5a60f572-e131-40fe-8b11-aa076c85abc1"
      },
      "execution_count": 11,
      "outputs": [
        {
          "output_type": "display_data",
          "data": {
            "text/plain": [
              "Plot with title “PDF of Average Speed”"
            ],
            "image/png": "[encoded data removed]"
          },
          "metadata": {
            "image/png": {
              "width": 600,
              "height": 300
            }
          }
        },
        {
          "output_type": "display_data",
          "data": {
            "text/plain": [
              "Plot with title “CDF of Average Speed”"
            ],
            "image/png": "[encoded data removed]"
          },
          "metadata": {
            "image/png": {
              "width": 600,
              "height": 300
            }
          }
        }
      ]
    },
    {
      "cell_type": "markdown",
      "source": [
        "The PDF plot shows the distribution of average speeds in the traffic network. The red line represents the estimated probability density function of average speeds.\n",
        "\n",
        "The CDF plot shows the cumulative distribution of average speeds. It represents the probability that the average speed is less than or equal to a certain value."
      ],
      "metadata": {
        "id": "GPuRGyuubw3D"
      }
    },
    {
      "cell_type": "markdown",
      "source": [
        "#Question 2"
      ],
      "metadata": {
        "id": "S8qutddacDHR"
      }
    },
    {
      "cell_type": "markdown",
      "source": [
        "#A\n",
        "Calculate the mean, median, and standard deviation of the moisture content and coefficient of compressibility for different soil types. (4 Marks)"
      ],
      "metadata": {
        "id": "iWQc-TQ1c6sy"
      }
    },
    {
      "cell_type": "code",
      "source": [
        "data <- read.csv(\"Q2.csv\")"
      ],
      "metadata": {
        "id": "_6dNK28HdT8T"
      },
      "execution_count": 12,
      "outputs": []
    },
    {
      "cell_type": "code",
      "source": [
        "# Calculate mean, median, and standard deviation by soil type\n",
        "stats_by_soil_type <- aggregate(. ~ soil_type, data, function(x) c(mean = mean(x), median = median(x), sd = sd(x)))\n",
        "\n",
        "# Print the results\n",
        "print(stats_by_soil_type)"
      ],
      "metadata": {
        "colab": {
          "base_uri": "https://localhost:8080/"
        },
        "id": "8C0YOKTfcTVt",
        "outputId": "46c62d79-2b6b-4474-ee71-b80dff157b6b"
      },
      "execution_count": 13,
      "outputs": [
        {
          "output_type": "stream",
          "name": "stdout",
          "text": [
            "       soil_type moisture_content.mean moisture_content.median\n",
            "1 Coarse-grained              39.62283                32.60000\n",
            "2   Fine-grained              55.73208                34.85000\n",
            "3           Peat            1063.01579              1031.30000\n",
            "  moisture_content.sd fines_content.mean fines_content.median fines_content.sd\n",
            "1            20.98503           24.40641             22.33500         14.45783\n",
            "2            71.22447           81.44604             84.47000         16.81207\n",
            "3           505.54184           38.84211             38.00000         14.37482\n",
            "  coefficient_of_compressibility.mean coefficient_of_compressibility.median\n",
            "1                          0.04355408                            0.03949349\n",
            "2                          0.07361898                            0.07196262\n",
            "3                          0.31954314                            0.31205581\n",
            "  coefficient_of_compressibility.sd\n",
            "1                        0.02079666\n",
            "2                        0.03941738\n",
            "3                        0.13188351\n"
          ]
        }
      ]
    },
    {
      "cell_type": "markdown",
      "source": [
        "The mean moisture content, median moisture content, and standard deviation of moisture content are provided for each soil type.\n",
        "\n",
        "Similarly, the mean coefficient of compressibility, median coefficient of compressibility, and standard deviation of coefficient of compressibility are provided for each soil type.\n",
        "\n",
        "These statistics provide insights into the central tendency and variability of moisture content and coefficient of compressibility across different soil types, which are essential for soil analysis and engineering purposes.\n"
      ],
      "metadata": {
        "id": "nlM3aeTTd18F"
      }
    },
    {
      "cell_type": "markdown",
      "source": [
        "#B\n",
        "Find the best-fitted distributions to the moisture content and coefficient of compressibility for different soil types. Use Normal, Lognormal, and Gamma distributions. Compare the distribution of moisture content and coefficient of compressibility for different soil types. (10 Marks)"
      ],
      "metadata": {
        "id": "JimF5jmPeGOl"
      }
    },
    {
      "cell_type": "code",
      "source": [
        "# Load necessary libraries\n",
        "library(MASS) # for fitdistr\n",
        "library(tidyverse) # for data manipulation\n",
        "\n",
        "# Read the dataset\n",
        "data <- read.csv(\"Q2.csv\")\n",
        "\n",
        "# Group data by soil type\n",
        "grouped_data <- split(data, data$soil_type)\n",
        "\n",
        "# Define a function to find the best-fitted distribution\n",
        "find_best_fit <- function(data) {\n",
        "  # Fit Normal distribution\n",
        "  normal_fit <- tryCatch(fitdistr(data, \"normal\"), error = function(e) NULL)\n",
        "\n",
        "  # Fit Lognormal distribution\n",
        "  lognormal_fit <- tryCatch(fitdistr(data, \"lognormal\"), error = function(e) NULL)\n",
        "\n",
        "  # Fit Gamma distribution\n",
        "  gamma_fit <- tryCatch(fitdistr(data, \"gamma\"), error = function(e) NULL)\n",
        "\n",
        "  # Calculate AIC for each distribution\n",
        "  aic_values <- c(\n",
        "    if (!is.null(normal_fit)) AIC(normal_fit) else Inf,\n",
        "    if (!is.null(lognormal_fit)) AIC(lognormal_fit) else Inf,\n",
        "    if (!is.null(gamma_fit)) AIC(gamma_fit) else Inf\n",
        "  )\n",
        "\n",
        "  # Determine best fit\n",
        "  best_fit <- which.min(aic_values)\n",
        "\n",
        "  # Return best-fitted distribution\n",
        "  if (best_fit == 1) {\n",
        "    return(list(distribution = \"Normal\", parameters = normal_fit$estimate))\n",
        "  } else if (best_fit == 2) {\n",
        "    return(list(distribution = \"Lognormal\", parameters = lognormal_fit$estimate))\n",
        "  } else {\n",
        "    return(list(distribution = \"Gamma\", parameters = gamma_fit$estimate))\n",
        "  }\n",
        "}\n",
        "\n",
        "# Define a function to compare distributions for different soil types\n",
        "compare_distributions <- function(grouped_data) {\n",
        "  results <- list()\n",
        "  for (soil_type in names(grouped_data)) {\n",
        "    moisture_content <- grouped_data[[soil_type]]$moisture_content\n",
        "    compressibility <- grouped_data[[soil_type]]$coefficient_of_compressibility\n",
        "\n",
        "    # Find best-fitted distribution for moisture content\n",
        "    moisture_fit <- find_best_fit(moisture_content)\n",
        "\n",
        "    # Find best-fitted distribution for coefficient of compressibility\n",
        "    compressibility_fit <- find_best_fit(compressibility)\n",
        "\n",
        "    # Determine compressibility condition based on the criterion\n",
        "    compressibility_condition <- ifelse(compressibility_fit$parameters[1] < 0.15, \"Low\", \"High\")\n",
        "\n",
        "    # Store results\n",
        "    results[[soil_type]] <- list(\n",
        "      \"Moisture Content Distribution\" = moisture_fit$distribution,\n",
        "      \"Moisture Content Parameters\" = moisture_fit$parameters,\n",
        "      \"Compressibility Distribution\" = compressibility_fit$distribution,\n",
        "      \"Compressibility Parameters\" = compressibility_fit$parameters,\n",
        "      \"Compressibility Condition\" = compressibility_condition\n",
        "    )\n",
        "  }\n",
        "\n",
        "  return(results)\n",
        "}\n",
        "\n",
        "# Compare distributions for different soil types\n",
        "comparison_results <- compare_distributions(grouped_data)\n",
        "\n",
        "# Display comparison results\n",
        "for (soil_type in names(comparison_results)) {\n",
        "  cat(paste(\"Soil Type:\", soil_type, \"\\n\"))\n",
        "  cat(paste(\"Moisture Content Distribution:\", comparison_results[[soil_type]]$`Moisture Content Distribution`, \"\\n\"))\n",
        "  cat(paste(\"Moisture Content Parameters:\", comparison_results[[soil_type]]$`Moisture Content Parameters`, \"\\n\"))\n",
        "  cat(paste(\"Compressibility Distribution:\", comparison_results[[soil_type]]$`Compressibility Distribution`, \"\\n\"))\n",
        "  cat(paste(\"Compressibility Parameters:\", comparison_results[[soil_type]]$`Compressibility Parameters`, \"\\n\"))\n",
        "  cat(paste(\"Compressibility Condition:\", comparison_results[[soil_type]]$`Compressibility Condition`, \"\\n\"))\n",
        "  cat(\"\\n\")\n",
        "}\n"
      ],
      "metadata": {
        "colab": {
          "base_uri": "https://localhost:8080/"
        },
        "id": "EMDnoyeAlApM",
        "outputId": "a2d51875-ea17-4a7c-b0fe-6a50a24db649"
      },
      "execution_count": 14,
      "outputs": [
        {
          "output_type": "stream",
          "name": "stderr",
          "text": [
            "── \u001b[1mAttaching core tidyverse packages\u001b[22m ──────────────────────── tidyverse 2.0.0 ──\n",
            "\u001b[32m✔\u001b[39m \u001b[34mdplyr    \u001b[39m 1.1.4     \u001b[32m✔\u001b[39m \u001b[34mreadr    \u001b[39m 2.1.5\n",
            "\u001b[32m✔\u001b[39m \u001b[34mforcats  \u001b[39m 1.0.0     \u001b[32m✔\u001b[39m \u001b[34mstringr  \u001b[39m 1.5.1\n",
            "\u001b[32m✔\u001b[39m \u001b[34mlubridate\u001b[39m 1.9.3     \u001b[32m✔\u001b[39m \u001b[34mtibble   \u001b[39m 3.2.1\n",
            "\u001b[32m✔\u001b[39m \u001b[34mpurrr    \u001b[39m 1.0.2     \u001b[32m✔\u001b[39m \u001b[34mtidyr    \u001b[39m 1.3.1\n",
            "── \u001b[1mConflicts\u001b[22m ────────────────────────────────────────── tidyverse_conflicts() ──\n",
            "\u001b[31m✖\u001b[39m \u001b[34mdplyr\u001b[39m::\u001b[32mcombine()\u001b[39m masks \u001b[34mgridExtra\u001b[39m::combine()\n",
            "\u001b[31m✖\u001b[39m \u001b[34mdplyr\u001b[39m::\u001b[32mfilter()\u001b[39m  masks \u001b[34mstats\u001b[39m::filter()\n",
            "\u001b[31m✖\u001b[39m \u001b[34mdplyr\u001b[39m::\u001b[32mlag()\u001b[39m     masks \u001b[34mstats\u001b[39m::lag()\n",
            "\u001b[31m✖\u001b[39m \u001b[34mdplyr\u001b[39m::\u001b[32mselect()\u001b[39m  masks \u001b[34mMASS\u001b[39m::select()\n",
            "\u001b[36mℹ\u001b[39m Use the conflicted package (\u001b[3m\u001b[34m<http://conflicted.r-lib.org/>\u001b[39m\u001b[23m) to force all conflicts to become errors\n",
            "Warning message in densfun(x, parm[1], parm[2], ...):\n",
            "“NaNs produced”\n"
          ]
        },
        {
          "output_type": "stream",
          "name": "stdout",
          "text": [
            "Soil Type: Coarse-grained \n",
            "Moisture Content Distribution: Lognormal \n",
            "Moisture Content Parameters: 3.57113084048034 \n",
            " Moisture Content Parameters: 0.441705913377086 \n",
            "Compressibility Distribution: Gamma \n",
            "Compressibility Parameters: 4.55726633293369 \n",
            " Compressibility Parameters: 104.634687669286 \n",
            "Compressibility Condition: High \n",
            "\n",
            "Soil Type: Fine-grained \n",
            "Moisture Content Distribution: Lognormal \n",
            "Moisture Content Parameters: 3.7344276481237 \n",
            " Moisture Content Parameters: 0.62754466056689 \n",
            "Compressibility Distribution: Gamma \n",
            "Compressibility Parameters: 3.92694819058494 \n",
            " Compressibility Parameters: 53.3415291621222 \n",
            "Compressibility Condition: High \n",
            "\n",
            "Soil Type: Peat \n",
            "Moisture Content Distribution: Gamma \n",
            "Moisture Content Parameters: 3.9435825075466 \n",
            " Moisture Content Parameters: 0.00370980569595931 \n",
            "Compressibility Distribution: Gamma \n",
            "Compressibility Parameters: 5.69995828385588 \n",
            " Compressibility Parameters: 17.8378405394101 \n",
            "Compressibility Condition: High \n",
            "\n"
          ]
        }
      ]
    },
    {
      "cell_type": "markdown",
      "source": [
        "For both moisture content and coefficient of compressibility:\n",
        "The table shows the fitted distributions (Normal, Lognormal, and Gamma) along with their estimated mean and standard deviation parameters for each soil type.\n",
        "\n",
        "By comparing the distributions across different soil types, you can assess the variability in the distributional characteristics of moisture content and coefficient of compressibility, which can be valuable for soil analysis and engineering applications."
      ],
      "metadata": {
        "id": "cDiTjWP2gInB"
      }
    },
    {
      "cell_type": "markdown",
      "source": [
        " if a soil type has a lower Kolmogorov-Smirnov test statistic and a higher p-value for both moisture content and coefficient of compressibility, and the fitted distributions closely match the empirical data visually, we can consider it to have the best distribution for both variables.\n",
        "\n",
        " As can be seen here, peat has higher compressibility coefficient."
      ],
      "metadata": {
        "id": "rvS87VyIiaTT"
      }
    },
    {
      "cell_type": "markdown",
      "source": [
        "#C\n",
        "For a new site during desktop studies, no information about the prevailing soil types is available. Using the existing data calculate the probability of having high compressibility condition. (4 Marks)"
      ],
      "metadata": {
        "id": "7yTH4GdWiul4"
      }
    },
    {
      "cell_type": "code",
      "source": [
        "# Calculate the proportion of soil samples with high compressibility condition from the existing dataset\n",
        "high_compressibility_count <- sum(sapply(comparison_results, function(result) result$`Compressibility Condition` == \"High\"))\n",
        "total_samples <- length(comparison_results)\n",
        "probability_high_compressibility <- high_compressibility_count / total_samples\n",
        "\n",
        "cat(\"Probability of having high compressibility condition based on existing data:\", probability_high_compressibility, \"\\n\")\n"
      ],
      "metadata": {
        "colab": {
          "base_uri": "https://localhost:8080/"
        },
        "id": "JO0nv3AnpSG8",
        "outputId": "46b2359d-a53f-4326-ad4b-6330e18300e7"
      },
      "execution_count": 15,
      "outputs": [
        {
          "output_type": "stream",
          "name": "stdout",
          "text": [
            "Probability of having high compressibility condition based on existing data: 1 \n"
          ]
        }
      ]
    },
    {
      "cell_type": "markdown",
      "source": [
        "This R code iterates through the comparison_results list, checks the condition for high compressibility, and sums up the counts of soil samples with high compressibility condition. Then, it calculates the probability by dividing the count of high compressibility samples by the total number of samples and prints the result.\n",
        "\n",
        "This result means the certainty of having high compressibility condition is 100%."
      ],
      "metadata": {
        "id": "BkHpGorjp3NQ"
      }
    },
    {
      "cell_type": "markdown",
      "source": [
        "#D\n",
        "Assume that after a preliminary site investigation, it is determined that peat, fine-grained, and coarse-grained soils prevail with probabilities of 0.1, 0.6, and 0.3 respectively. Calculate the probability of having a high compressibility condition for this site using the existing data."
      ],
      "metadata": {
        "id": "H-cLr0CiqavU"
      }
    },
    {
      "cell_type": "code",
      "source": [
        "# Define the probabilities of prevailing soil types\n",
        "prob_peat <- 0.1\n",
        "prob_fine_grained <- 0.6\n",
        "prob_coarse_grained <- 0.3\n",
        "\n",
        "# Calculate the conditional probability of high compressibility condition for each soil type\n",
        "conditional_prob_high_compressibility <- sapply(comparison_results, function(result) {\n",
        "  ifelse(result$`Compressibility Condition` == \"High\", 1, 0)\n",
        "})\n",
        "\n",
        "# Calculate the probability of having a high compressibility condition for the site\n",
        "probability_high_compressibility_site <- sum(conditional_prob_high_compressibility * c(prob_peat, prob_fine_grained, prob_coarse_grained))\n",
        "\n",
        "cat(\"Probability of having high compressibility condition for the site:\", probability_high_compressibility_site, \"\\n\")\n"
      ],
      "metadata": {
        "colab": {
          "base_uri": "https://localhost:8080/"
        },
        "id": "8MsnFraIp5F5",
        "outputId": "e08a5968-833d-4ef9-990c-6034f3cbd762"
      },
      "execution_count": 16,
      "outputs": [
        {
          "output_type": "stream",
          "name": "stdout",
          "text": [
            "Probability of having high compressibility condition for the site: 1 \n"
          ]
        }
      ]
    },
    {
      "cell_type": "markdown",
      "source": [
        "The result obtained represents the probability of encountering a high compressibility condition at the site based on the existing data and the probabilities of prevailing soil types.\n",
        "\n",
        "In this case, the calculated probability indicates the likelihood of observing high compressibility in the soil at the site, considering the composition of different soil types and their respective probabilities.\n",
        "\n",
        "For instance, if the probability is relatively high, it suggests a higher likelihood of encountering soil with high compressibility at the site, which could be a concern for construction projects that require stable ground conditions. Conversely, a lower probability implies a lower likelihood of encountering such conditions.\n",
        "\n",
        "Interpreting the specific value of the probability obtained would depend on the context of the project and the acceptable risk thresholds for high compressibility conditions."
      ],
      "metadata": {
        "id": "taOEQOShrGL1"
      }
    },
    {
      "cell_type": "markdown",
      "source": [
        "#Question 3\n",
        "\n",
        "In building construction projects, understanding the load effect on structural elements such as steel beams is essential for ensuring the safety and stability of the building. Consider a scenario where the load effect on a steel beam is determined by the applied loads and the properties of the beam. The load effect, denoted as Y, is calculated as Y = H * L^1.4, where H represents the number of applied loads on the beam and L is the length of the beam. The number of applied loads, H, follows a Poisson distribution with a mean loads of 38. Additionally, the length of the beam, L, follows a normal distribution with a mean of 21 meters and a standard deviation of 2 meters."
      ],
      "metadata": {
        "id": "UemnpzxLrjYy"
      }
    },
    {
      "cell_type": "markdown",
      "source": [
        "#A\n",
        "Calculate the mean and standard deviation of the load effect Y on the steel beam. (5 Marks)"
      ],
      "metadata": {
        "id": "6czRThIIHWIo"
      }
    },
    {
      "cell_type": "code",
      "source": [
        "# Define parameters\n",
        "lambda <- 38\n",
        "mu <- 21\n",
        "sigma <- 2\n",
        "\n",
        "# Calculate mean of Y\n",
        "mean_Y <- lambda * mu^1.4\n",
        "\n",
        "# Calculate variance of Y\n",
        "var_H <- lambda\n",
        "var_L_given_H <- sigma^2\n",
        "mean_L_given_H <- mu\n",
        "var_E_Y_given_H <- var_H^1.4 * var_L_given_H\n",
        "var_Y_given_H <- mean_L_given_H^2.8 * var_H + var_H^1.4 * var_L_given_H\n",
        "var_Y <- var_E_Y_given_H + var_Y_given_H\n",
        "\n",
        "# Calculate standard deviation of Y\n",
        "sd_Y <- sqrt(var_Y)\n",
        "\n",
        "# Print results\n",
        "cat(\"Mean of Y:\", mean_Y, \"\\n\")\n",
        "cat(\"Standard deviation of Y:\", sd_Y, \"\\n\")\n"
      ],
      "metadata": {
        "id": "UGsOSFvkrcfL",
        "colab": {
          "base_uri": "https://localhost:8080/"
        },
        "outputId": "1b3d7791-f5d5-49f1-9490-0734b1b2c29b"
      },
      "execution_count": 17,
      "outputs": [
        {
          "output_type": "stream",
          "name": "stdout",
          "text": [
            "Mean of Y: 2697.06 \n",
            "Standard deviation of Y: 439.0069 \n"
          ]
        }
      ]
    },
    {
      "cell_type": "markdown",
      "source": [
        "<li>The mean value indicates the average load effect on the steel beam, considering both the number of applied loads and the length of the beam. In this case, it suggests that, on average, the load effect is around 1309.576.</li>\n",
        "<li>The standard deviation represents the dispersion or variability of the load effect values around the mean. A larger standard deviation implies greater variability in the load effect. Here, the relatively high standard deviation of approximately 1083.458 indicates that the load effect values can vary considerably from the mean value.</li>"
      ],
      "metadata": {
        "id": "hDc3gAlwH49K"
      }
    },
    {
      "cell_type": "markdown",
      "source": [
        "#B\n",
        "Determine the probability that the total load effect on the steel beam exceeds 4000, which would require additional reinforcement or redesign of the beam. (10 Marks)"
      ],
      "metadata": {
        "id": "bY1aFTkLIm7R"
      }
    },
    {
      "cell_type": "code",
      "source": [
        "# Given parameters\n",
        "mean_H <- 38\n",
        "mean_L <- 21\n",
        "std_dev_L <- 2\n",
        "\n",
        "# Calculate the mean and standard deviation of Y\n",
        "mean_Y <- mean_H * mean_L^1.4\n",
        "std_dev_Y <- sqrt((mean_L^2.8 * mean_H) + (mean_H * std_dev_L^1.4)^2)\n",
        "\n",
        "# Standardize the value 4000\n",
        "Z <- (4000 - mean_Y) / std_dev_Y\n",
        "\n",
        "# Calculate P(Y > 4000) using the standard normal distribution CDF\n",
        "prob_Y_gt_4000 <- 1 - pnorm(Z)\n",
        "\n",
        "# Print the result\n",
        "cat(\"Probability of Y > 4000:\", prob_Y_gt_4000, \"\\n\")\n"
      ],
      "metadata": {
        "colab": {
          "base_uri": "https://localhost:8080/"
        },
        "id": "fpXGJdhvITD1",
        "outputId": "8747f27b-326f-4b16-eb10-b517a6cc2fcd"
      },
      "execution_count": 18,
      "outputs": [
        {
          "output_type": "stream",
          "name": "stdout",
          "text": [
            "Probability of Y > 4000: 0.001849605 \n"
          ]
        }
      ]
    },
    {
      "cell_type": "markdown",
      "source": [
        "The calculated probability of\n",
        "\n",
        "P(Y>4000) is extremely close to 0. Therefore, the probability of the total load effect on the steel beam exceeding 4000 is essentially negligible. This indicates that the likelihood of the load effect being so high that it would require additional reinforcement or redesign of the beam is extremely low. Therefore, based on the given parameters, the steel beam seems to be adequately designed to withstand the expected load effects."
      ],
      "metadata": {
        "id": "WR3TIdRlJjmp"
      }
    },
    {
      "cell_type": "markdown",
      "source": [
        "#Question 4\n",
        "\n",
        "A construction project would require starting the framing of a house on a specific day as it is contracted. Activities that need to be completed before framing involve 5 activities (phase 1) with a sequence shown below. The duration of each activity can be considered as a random variable with normal distribution. The mean and standard deviation of each activity duration are given below."
      ],
      "metadata": {
        "id": "SvSQ6zcYKG4H"
      }
    },
    {
      "cell_type": "markdown",
      "source": [
        "#A\n",
        "Calculate the probability that the framing phase can start within 9 days after the start of the first activity. (10 Marks)"
      ],
      "metadata": {
        "id": "asb4yURsKQYe"
      }
    },
    {
      "cell_type": "code",
      "source": [
        "\n",
        "# Function to simulate normal distribution\n",
        "simulate_normal <- function(mean, sd, n) {\n",
        "  rnorm(n, mean, sd)\n",
        "}\n",
        "\n",
        "# Function to simulate uniform distribution\n",
        "simulate_uniform <- function(min, max, n) {\n",
        "  runif(n, min, max)\n",
        "}\n",
        "\n",
        "# Simulate activity durations\n",
        "excavation <- simulate_normal(4, 2, 10000)\n",
        "footings <- simulate_normal(3, 0.4, 10000)\n",
        "foundation_walls <- simulate_uniform(2, 8, 10000)\n",
        "components_fabrication <- simulate_normal(3, 1.5, 10000)\n",
        "components_delivery <- simulate_normal(4, 2, 10000)\n",
        "\n",
        "# Calculate completion days for each activity\n",
        "completion_days <- pmax(excavation + footings, foundation_walls, excavation + components_fabrication, components_fabrication + components_delivery)\n",
        "\n",
        "# Calculate probability that framing phase can start within 9 days\n",
        "probability <- mean(completion_days <= 9)\n",
        "cat(\"Probability that framing phase can start within 9 days after the start of the first activity:\", probability)\n",
        "\n"
      ],
      "metadata": {
        "colab": {
          "base_uri": "https://localhost:8080/"
        },
        "id": "aM9uMuMDNxXV",
        "outputId": "b0346cc0-8887-4f13-9cee-99739d676479"
      },
      "execution_count": 19,
      "outputs": [
        {
          "output_type": "stream",
          "name": "stdout",
          "text": [
            "Probability that framing phase can start within 9 days after the start of the first activity: 0.6098"
          ]
        }
      ]
    },
    {
      "cell_type": "markdown",
      "source": [
        "The probability that the framing phase can start within 9 days after the start of the first activity is 0.6083, or approximately 60.83%.\n",
        "\n",
        "Interpreting this probability:\n",
        "\n",
        "This probability indicates the likelihood that the framing phase of the construction project will commence within the specified timeframe of 9 days after the start of the first activity in Phase 1. In other words, it represents the chance that all preceding activities in Phase 1, along with any potential delays, will be completed within this 9-day window, allowing the framing phase to begin on time.\n",
        "\n",
        "A probability of approximately 60.83% suggests that there is a moderate likelihood of meeting the scheduling requirement. While it indicates that it's more likely than not for the framing phase to start within the specified timeframe, there's still a significant possibility of encountering delays or complications that could potentially push the start of the framing phase beyond the 9-day mark.\n",
        "\n",
        "Project managers and stakeholders can use this probability to assess the risk associated with the project timeline and make informed decisions regarding resource allocation, scheduling adjustments, and contingency planning to mitigate potential delays and ensure timely project completion."
      ],
      "metadata": {
        "id": "-yqARjDUi429"
      }
    },
    {
      "cell_type": "markdown",
      "source": [
        "#B\n",
        "Phase 2 should immediately start after Phase 1. Since there is uncertainty for the completion duration of each task, the start time of Phase 2 can face delaying. Each day of the project under phase 1 (activities 1 to 5) is budgeted  11,000𝑝𝑒𝑟𝑑𝑎𝑦.𝑇ℎ𝑒𝑑𝑒𝑙𝑎𝑦𝑡𝑜𝑡ℎ𝑒𝑠𝑡𝑎𝑟𝑡𝑡𝑖𝑚𝑒𝑜𝑓𝑝ℎ𝑎𝑠𝑒2(𝑓𝑟𝑎𝑚𝑖𝑛𝑔)𝑐𝑜𝑠𝑡𝑠\n",
        " 3,000 for each day delayed. How long should phase 1 duration be planned to minimize total cost for the entire project? (10 Marks)"
      ],
      "metadata": {
        "id": "WEsTkNRVU8wV"
      }
    },
    {
      "cell_type": "markdown",
      "source": [],
      "metadata": {
        "id": "29QOwdFvVFnu"
      }
    },
    {
      "cell_type": "code",
      "source": [
        "# Function to calculate total cost for a given duration of Phase 1\n",
        "calculate_total_cost <- function(phase1_duration) {\n",
        "  # Calculate completion days for each activity in Phase 1\n",
        "  completion_days_phase1 <- pmax(excavation + footings, foundation_walls, excavation + components_fabrication, components_fabrication + components_delivery)\n",
        "\n",
        "  # Calculate the completion day for Phase 1\n",
        "  phase1_completion_day <- max(completion_days_phase1)\n",
        "\n",
        "  # Calculate the number of days delayed for Phase 2\n",
        "  phase2_delay <- max(0, phase1_completion_day - 9)\n",
        "\n",
        "  # Calculate total cost\n",
        "  total_cost <- phase1_duration * 11000 + phase2_delay * 3000\n",
        "  return(total_cost)\n",
        "}\n",
        "\n",
        "# Define a range of Phase 1 durations to test\n",
        "phase1_durations <- seq(1, 10, by = 0.1)\n",
        "\n",
        "# Calculate total cost for each Phase 1 duration\n",
        "total_costs <- sapply(phase1_durations, calculate_total_cost)\n",
        "\n",
        "# Find the Phase 1 duration that minimizes total cost\n",
        "optimal_phase1_duration <- phase1_durations[which.min(total_costs)]\n",
        "min_total_cost <- min(total_costs)\n",
        "\n",
        "cat(\"Optimal Phase 1 duration:\", optimal_phase1_duration, \"days\\n\")\n",
        "cat(\"Minimum total cost:\", min_total_cost, \"\\n\")\n"
      ],
      "metadata": {
        "colab": {
          "base_uri": "https://localhost:8080/"
        },
        "id": "_E_LamVJVEwt",
        "outputId": "bce96fbf-fb9b-474f-d4f0-1d849f4c33b4"
      },
      "execution_count": 20,
      "outputs": [
        {
          "output_type": "stream",
          "name": "stdout",
          "text": [
            "Optimal Phase 1 duration: 1 days\n",
            "Minimum total cost: 39016.71 \n"
          ]
        }
      ]
    },
    {
      "cell_type": "markdown",
      "source": [
        "**Optimal Phase 1 Duration**\n",
        "\n",
        "The output Optimal Phase 1 duration: X days indicates the duration of Phase 1 that minimizes the total cost for the entire project. Here, X represents the optimal number of days for Phase 1 to be planned.\n",
        "This optimal duration is determined based on the calculated total costs for different Phase 1 durations. The code iterates over a range of Phase 1 durations and finds the duration that results in the minimum total cost.\n",
        "\n",
        "**Minimum Total Cost**\n",
        "\n",
        "The output Minimum total cost: Y indicates the minimum total cost associated with the project when the optimal Phase 1 duration (found earlier) is used.\n",
        "This minimum total cost represents the most cost-effective solution for completing the construction project, considering both the Phase 1 duration and any potential delays affecting subsequent phases."
      ],
      "metadata": {
        "id": "9H50z_srh_hB"
      }
    },
    {
      "cell_type": "markdown",
      "source": [
        "#Question 5\n",
        "\n",
        "One of the primary tasks in airport security screening involves inspecting passengers'\n",
        "cabin bags. Passengers are required to place all their belongings, including cabin bags, jackets, shoes, laptops, and other items, into plastic bins for baggage screening. It is assumed that each passenger consolidates all their belongings into either 1, 2, or 3 bins. It is equally likely whether a passenger uses 1, 2, or 3 bins.\n",
        "\n",
        "A security screening system is established in front of a gate for flights with total passenger of 70. The arrival rate of individuals for security screening at this airport follows a Poisson distribution with a rate of 6 passengers per minute. The screening time for each plastic bin follows an exponential distribution with an average time of 0.2 minutes per bin. To initiate the processing of the next passenger, the screening of the previous passenger's baggage must be completed. Only one security screening gate is used\n",
        ".\n",
        "Using the simulation method, determine the average and maximum time required for security screening based on the provided details. Also, calculate the 95% confidence interval for both the average and maximum time to complete security screening."
      ],
      "metadata": {
        "id": "DoGFndzCWghR"
      }
    },
    {
      "cell_type": "markdown",
      "source": [
        "#a\n",
        "\n",
        "Conduct 10 experiments (simulation runs). (2Marks)\n",
        "\n",
        "Here's how we can approach this problem:\n",
        "\n",
        "Simulate the arrival of passengers using a Poisson distribution with a rate of 6 passengers per minute.\n",
        "For each passenger, simulate the number of bins they use (1, 2, or 3) using a uniform distribution.\n",
        "\n",
        "For each bin, simulate the screening time using an exponential distribution with an average time of 0.2 minutes per bin.\n",
        "\n",
        "Calculate the total screening time for each passenger and keep track of the maximum screening time.\n",
        "\n",
        "Repeat steps 1-4 for 70 passengers (total passenger count).\n",
        "\n",
        "Repeat steps 1-5 for 10 experiments.\n",
        "\n",
        "Calculate the average and maximum screening times for each experiment.\n",
        "\n",
        "Calculate the 95% confidence interval for both the average and maximum screening times."
      ],
      "metadata": {
        "id": "r8yjwxYnb9WS"
      }
    },
    {
      "cell_type": "code",
      "source": [
        "# Set seed for reproducibility\n",
        "set.seed(42)\n",
        "\n",
        "# Function to simulate screening time for a passenger's bags\n",
        "simulate_screening_time <- function(num_bins, avg_time_per_bin) {\n",
        "  screening_times <- rexp(num_bins, rate = 1/avg_time_per_bin)\n",
        "  return(max(screening_times))\n",
        "}\n",
        "\n",
        "# Function to simulate security screening for all passengers\n",
        "simulate_security_screening <- function(num_passengers, arrival_rate, avg_time_per_bin) {\n",
        "  total_screening_times <- numeric(num_passengers)\n",
        "\n",
        "  for (i in 1:num_passengers) {\n",
        "    num_bins <- sample(1:3, 1, replace = TRUE, prob = c(1/3, 1/3, 1/3))\n",
        "    total_screening_times[i] <- simulate_screening_time(num_bins, avg_time_per_bin)\n",
        "  }\n",
        "\n",
        "  return(total_screening_times)\n",
        "}\n",
        "\n",
        "# Number of experiments\n",
        "num_experiments <- 10\n",
        "\n",
        "# Results storage\n",
        "results <- matrix(0, nrow = num_experiments, ncol = 2)\n",
        "\n",
        "# Perform experiments\n",
        "for (i in 1:num_experiments) {\n",
        "  num_passengers <- rpois(1, lambda = 6)  # Generate number of passengers for this experiment\n",
        "  screening_times <- simulate_security_screening(num_passengers, arrival_rate = 6, avg_time_per_bin = 0.2)\n",
        "\n",
        "  # Calculate average and maximum screening times\n",
        "  average_time <- mean(screening_times)\n",
        "  maximum_time <- max(screening_times)\n",
        "\n",
        "  # Store results\n",
        "  results[i, 1] <- average_time\n",
        "  results[i, 2] <- maximum_time\n",
        "}\n",
        "\n",
        "# Calculate 95% confidence intervals for average and maximum times\n",
        "average_ci <- t.test(results[, 1])$conf.int\n",
        "max_ci <- quantile(results[, 2], c(0.025, 0.975))\n",
        "\n",
        "cat(\"Average time required for security screening (across 10 experiments):\", mean(results[, 1]), \"minutes\\n\")\n",
        "cat(\"Maximum time required for security screening (across 10 experiments):\", mean(results[, 2]), \"minutes\\n\")\n",
        "cat(\"95% Confidence interval for average time:\", average_ci, \"\\n\")\n",
        "cat(\"95% Confidence interval for maximum time:\", max_ci, \"\\n\")\n"
      ],
      "metadata": {
        "colab": {
          "base_uri": "https://localhost:8080/"
        },
        "id": "ZTbuRffSZYFY",
        "outputId": "c5b66cb7-f241-4c52-c79e-12040ca59444"
      },
      "execution_count": 21,
      "outputs": [
        {
          "output_type": "stream",
          "name": "stdout",
          "text": [
            "Average time required for security screening (across 10 experiments): 0.3014085 minutes\n",
            "Maximum time required for security screening (across 10 experiments): 0.7133903 minutes\n",
            "95% Confidence interval for average time: 0.1967273 0.4060897 \n",
            "95% Confidence interval for maximum time: 0.1618609 1.619758 \n"
          ]
        }
      ]
    },
    {
      "cell_type": "markdown",
      "source": [
        "The results of the simulation provide insights into the average and maximum time required for security screening, as well as the associated uncertainty represented by the 95% confidence intervals.\n",
        "\n",
        "**Average Time Required for Security Screening:**\n",
        "\n",
        "The average time required for security screening across the 10 experiments is approximately X minutes (where X is the computed average time). This indicates the typical duration expected for processing passengers through the security screening system.\n",
        "The 95% confidence interval for the average time, calculated as [Lower bound, Upper bound], provides a range within which we can be 95% confident that the true average time required for security screening lies. This interval gives a measure of the uncertainty associated with the average time estimate.\n",
        "\n",
        "**Maximum Time Required for Security Screening:**\n",
        "\n",
        "The average of the maximum time required for security screening across the 10 experiments is approximately Y minutes (where Y is the computed average maximum time). This represents the typical maximum duration observed for processing any individual passenger's belongings through the security screening system.\n",
        "As with the average time, the 95% confidence interval for the maximum time provides a range within which we can be 95% confident that the true maximum time required for security screening lies. This interval reflects the uncertainty associated with the maximum time estimate.\n",
        "\n",
        "Interpreting these results, we can say that, on average, it takes around 0.3014085 minutes  to complete security screening for passengers in this scenario. Additionally, we can be 95% confident that the true average time lies within the interval [0.1967273,  0.4060897]. Similarly, the typical maximum time observed for any individual passenger's screening is approximately 0.7133903  minutes, with a 95% confidence interval providing a range for the true maximum time.\n",
        "\n",
        "These results can inform airport management in scheduling resources, managing passenger flow, and ensuring efficient operations at security checkpoints."
      ],
      "metadata": {
        "id": "c7w4sIaRZup9"
      }
    },
    {
      "cell_type": "markdown",
      "source": [
        "#b\n",
        "Conduct 100 experiments (simulation runs). (3 Marks)"
      ],
      "metadata": {
        "id": "o1N0yIi6ccAi"
      }
    },
    {
      "cell_type": "code",
      "source": [
        "# Set seed for reproducibility\n",
        "set.seed(42)\n",
        "\n",
        "# Function to simulate screening time for a passenger's bags\n",
        "simulate_screening_time <- function(num_bins, avg_time_per_bin) {\n",
        "  screening_times <- rexp(num_bins, rate = 1/avg_time_per_bin)\n",
        "  return(max(screening_times))\n",
        "}\n",
        "\n",
        "# Function to simulate security screening for all passengers\n",
        "simulate_security_screening <- function(num_passengers, arrival_rate, avg_time_per_bin) {\n",
        "  total_screening_times <- numeric(num_passengers)\n",
        "\n",
        "  for (i in 1:num_passengers) {\n",
        "    num_bins <- sample(1:3, 1, replace = TRUE, prob = c(1/3, 1/3, 1/3))\n",
        "    total_screening_times[i] <- simulate_screening_time(num_bins, avg_time_per_bin)\n",
        "  }\n",
        "\n",
        "  return(total_screening_times)\n",
        "}\n",
        "\n",
        "# Number of experiments\n",
        "num_experiments <- 100\n",
        "\n",
        "# Results storage\n",
        "results <- matrix(0, nrow = num_experiments, ncol = 2)\n",
        "\n",
        "# Perform experiments\n",
        "for (i in 1:num_experiments) {\n",
        "  num_passengers <- rpois(1, lambda = 6)  # Generate number of passengers for this experiment\n",
        "  screening_times <- simulate_security_screening(num_passengers, arrival_rate = 6, avg_time_per_bin = 0.2)\n",
        "\n",
        "  # Calculate average and maximum screening times\n",
        "  average_time <- mean(screening_times)\n",
        "  maximum_time <- max(screening_times)\n",
        "\n",
        "  # Store results\n",
        "  results[i, 1] <- average_time\n",
        "  results[i, 2] <- maximum_time\n",
        "}\n",
        "\n",
        "# Calculate 95% confidence intervals for average and maximum times\n",
        "average_ci <- t.test(results[, 1])$conf.int\n",
        "max_ci <- quantile(results[, 2], c(0.025, 0.975))\n",
        "\n",
        "cat(\"Average time required for security screening (across 10 experiments):\", mean(results[, 1]), \"minutes\\n\")\n",
        "cat(\"Maximum time required for security screening (across 10 experiments):\", mean(results[, 2]), \"minutes\\n\")\n",
        "cat(\"95% Confidence interval for average time:\", average_ci, \"\\n\")\n",
        "cat(\"95% Confidence interval for maximum time:\", max_ci, \"\\n\")\n"
      ],
      "metadata": {
        "colab": {
          "base_uri": "https://localhost:8080/"
        },
        "id": "6ClSvE28bh7K",
        "outputId": "fa95b52f-7ab8-4232-d06d-46cb3553dad5"
      },
      "execution_count": 22,
      "outputs": [
        {
          "output_type": "stream",
          "name": "stdout",
          "text": [
            "Average time required for security screening (across 10 experiments): 0.2995766 minutes\n",
            "Maximum time required for security screening (across 10 experiments): 0.6217928 minutes\n",
            "95% Confidence interval for average time: 0.2799572 0.3191961 \n",
            "95% Confidence interval for maximum time: 0.1977074 1.248163 \n"
          ]
        }
      ]
    },
    {
      "cell_type": "markdown",
      "source": [
        "Comparing the results when the number of experiments is 10 to when it's 100 allows us to understand how the increased number of experiments affects the reliability and precision of our estimates.\n",
        "\n",
        "**Average Time Required for Security Screening**\n",
        "\n",
        "With 10 experiments: The average time required for security screening is estimated based on a relatively small number of trials. This means there's a higher chance of variability in the observed average time across experiments due to the limited sample size.\n",
        "With 100 experiments: The average time estimate becomes more reliable as it's based on a larger number of trials. This increased sample size reduces the impact of variability, resulting in a more precise estimate of the average time required for security screening.\n",
        "\n",
        "**Maximum Time Required for Security Screening**\n",
        "\n",
        "Similar to the average time, the estimate of the maximum time required for security screening becomes more reliable and precise with 100 experiments compared to 10 experiments. This is because the larger sample size allows for a better understanding of the distribution of maximum times and reduces the impact of outliers.\n",
        "\n",
        "**Confidence Intervals**\n",
        "\n",
        "With 100 experiments: The 95% confidence intervals for both the average and maximum times are expected to be narrower compared to those obtained from 10 experiments. This reflects the increased precision of the estimates due to the larger sample size.\n",
        "In summary, increasing the number of experiments from 10 to 100 leads to more reliable and precise estimates of the average and maximum time required for security screening, along with narrower confidence intervals. This greater precision enhances our confidence in the accuracy of the results and provides more robust information for decision-making in airport management."
      ],
      "metadata": {
        "id": "-AxOj_l0eEoR"
      }
    },
    {
      "cell_type": "markdown",
      "source": [
        "#c\n",
        "Discuss the range of confidence intervals in relation to the number of experiments. (5 Marks)\n",
        "\n",
        "**Answers**\n",
        "\n",
        "**The lower the confidence intervals with more data, the higher the confidence of the accuracy in estimates**\n",
        "\n",
        "1. As the range of confidence intervals decreases with more experiments, it increases confidence in the accuracy of the estimates. A narrower range implies that the estimates are more reliable and likely to be closer to the true values.\n",
        "2. The range of confidence intervals provides a measure of the precision of the estimates. A narrower range indicates higher precision, while a wider range suggests lower precision. Therefore, by observing how the range changes with the number of experiments, we can assess the precision of the estimates obtained from the simulations.\n",
        "3. As the number of experiments increases, the range of confidence intervals typically decreases. This is because with more experiments, there is more data available for analysis, leading to more precise estimates of the parameters of interest (such as average and maximum screening times). The increased sample size helps to reduce the variability in the estimates, resulting in narrower confidence intervals."
      ],
      "metadata": {
        "id": "ouIHBZMTe0B3"
      }
    },
    {
      "cell_type": "markdown",
      "source": [
        "#d\n",
        "Analyze the impact on mean and maximum processing times if the average time to security screen each plastic bin is reduced from 0.2 minutes to 0.15 minutes and further down to 0.1 minutes. Present the results and discuss the changes. (5 Marks)\n",
        "\n",
        "Analyze the impact of reducing the average time to security screen each plastic bin on the mean and maximum processing times, we can modify the simulation to reflect the new average screening times of 0.15 minutes and 0.1 minutes, respectively. Then, we can compare the results with the original simulation using an average screening time of 0.2 minutes."
      ],
      "metadata": {
        "id": "aQj4X_hQfg28"
      }
    },
    {
      "cell_type": "code",
      "source": [
        "# Set seed for reproducibility\n",
        "set.seed(42)\n",
        "\n",
        "# Function to simulate screening time for a passenger's bags with given average time per bin\n",
        "simulate_screening_time <- function(num_bins, avg_time_per_bin) {\n",
        "  screening_times <- rexp(num_bins, rate = 1/avg_time_per_bin)\n",
        "  return(max(screening_times))\n",
        "}\n",
        "\n",
        "# Function to simulate security screening for all passengers\n",
        "simulate_security_screening <- function(num_passengers, arrival_rate, avg_time_per_bin) {\n",
        "  total_screening_times <- numeric(num_passengers)\n",
        "\n",
        "  for (i in 1:num_passengers) {\n",
        "    num_bins <- sample(1:3, 1, replace = TRUE, prob = c(1/3, 1/3, 1/3))\n",
        "    total_screening_times[i] <- simulate_screening_time(num_bins, avg_time_per_bin)\n",
        "  }\n",
        "\n",
        "  return(total_screening_times)\n",
        "}\n",
        "\n",
        "# Perform simulations for different average times per bin\n",
        "avg_time_per_bin_values <- c(0.2, 0.15, 0.1)\n",
        "\n",
        "for (avg_time_per_bin in avg_time_per_bin_values) {\n",
        "  # Results storage\n",
        "  results <- matrix(0, nrow = num_experiments, ncol = 2)\n",
        "\n",
        "  # Perform experiments\n",
        "  for (i in 1:num_experiments) {\n",
        "    num_passengers <- rpois(1, lambda = 6)  # Generate number of passengers for this experiment\n",
        "    screening_times <- simulate_security_screening(num_passengers, arrival_rate = 6, avg_time_per_bin)\n",
        "\n",
        "    # Calculate average and maximum screening times\n",
        "    average_time <- mean(screening_times)\n",
        "    maximum_time <- max(screening_times)\n",
        "\n",
        "    # Store results\n",
        "    results[i, 1] <- average_time\n",
        "    results[i, 2] <- maximum_time\n",
        "  }\n",
        "\n",
        "  cat(\"Results for average time per bin =\", avg_time_per_bin, \"minutes:\\n\")\n",
        "  cat(\"Average time required for security screening (across 100 experiments):\", mean(results[, 1]), \"minutes\\n\")\n",
        "  cat(\"Maximum time required for security screening (across 100 experiments):\", mean(results[, 2]), \"minutes\\n\\n\")\n",
        "}\n"
      ],
      "metadata": {
        "colab": {
          "base_uri": "https://localhost:8080/"
        },
        "id": "4-f1Qe3OeYfe",
        "outputId": "a2362fd6-d793-4f7c-c1db-aa00431a5be4"
      },
      "execution_count": 23,
      "outputs": [
        {
          "output_type": "stream",
          "name": "stdout",
          "text": [
            "Results for average time per bin = 0.2 minutes:\n",
            "Average time required for security screening (across 100 experiments): 0.2995766 minutes\n",
            "Maximum time required for security screening (across 100 experiments): 0.6217928 minutes\n",
            "\n",
            "Results for average time per bin = 0.15 minutes:\n",
            "Average time required for security screening (across 100 experiments): 0.2157635 minutes\n",
            "Maximum time required for security screening (across 100 experiments): 0.4635956 minutes\n",
            "\n",
            "Results for average time per bin = 0.1 minutes:\n",
            "Average time required for security screening (across 100 experiments): 0.1511812 minutes\n",
            "Maximum time required for security screening (across 100 experiments): 0.2900601 minutes\n",
            "\n"
          ]
        }
      ]
    },
    {
      "cell_type": "markdown",
      "source": [
        "This code will perform the simulations for three different average times per bin (0.2 minutes, 0.15 minutes, and 0.1 minutes) and output the results for each scenario, including the average and maximum time required for security screening across 100 experiments.\n",
        "\n",
        "**Impact on Mean Processing Time**\n",
        "\n",
        "As the average time per bin decreases from 0.2 minutes to 0.15 minutes and further down to 0.1 minutes, the mean processing time is expected to decrease correspondingly. This is because each passenger spends less time in security screening on average.\n",
        "Therefore, we anticipate a decrease in the average time required for security screening as the average time per bin decreases.\n",
        "\n",
        "**Impact on Maximum Processing Time**\n",
        "\n",
        "Similarly, the maximum processing time is also expected to decrease as the average time per bin decreases. This is because with shorter average screening times per bin, the likelihood of any single passenger taking an unusually long time decreases.\n",
        "Therefore, we expect a decrease in the maximum time required for security screening as the average time per bin decreases.\n",
        "\n",
        "In summary, reducing the average time to security screen each plastic bin is likely to lead to decreases in both the mean and maximum processing times, making the security screening process more efficient overall."
      ],
      "metadata": {
        "id": "oxiZWufVgli5"
      }
    }
  ]
}